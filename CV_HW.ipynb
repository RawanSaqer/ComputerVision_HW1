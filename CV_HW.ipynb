{
 "cells": [
  {
   "cell_type": "markdown",
   "metadata": {
    "id": "bf-xJS2PCNGg"
   },
   "source": [
    "<font color ='purple' size = 20> Computer Vision HW1</font>\n",
    "\n",
    "University of Tabuk\n",
    "\n",
    "Faculty of Computers and Information Technology\n",
    "\n",
    "Department of Computer Science \n",
    "\n",
    " Second Semester 1442\n",
    "\n",
    "CSC-606 Computer Vision/ Master of Science- Artificial Intelligence \n",
    "\n",
    "-------\n",
    "-------\n",
    "\n",
    "### Student Name: Rawan Saqer AlHarbi\t\t\t\t\t\t\n",
    "### Student ID: 421010012\n",
    "\n",
    "-------\n",
    "-------"
   ]
  },
  {
   "cell_type": "markdown",
   "metadata": {
    "id": "JnO4qH-mCjOn"
   },
   "source": [
    "<font color ='blue' size = 10>Question 1</font>\n",
    "\n",
    "<font color ='purple'> Show the step of how a 2-D Gaussian filter is built if you know that the sigma (i.e. standard deviation) is σ=0.5 </font>\n",
    "\n",
    "Gaussian equation \n",
    "\n",
    "$\\frac{1}{\\sigma \\sqrt{2\\pi}}e^{{{ - \\left( {x - \\mu } \\right)^2 }/{2\\sigma ^2 }}}$\n",
    "\n",
    "\n",
    "For 1D , and for $\\sigma$ = 0.5, and using the bext practice of 2 X (3 $\\sigma$ ) wide matrix, A vector of size 3 will be used\n",
    "\n",
    "Substituting in the Gaussian equation by $\\sigma = 0.5, and \\mu = 0$, we get the followig vector: \n",
    "with x =\n",
    "\\begin{pmatrix}\n",
    "-1 & 0 & 1\n",
    "\\end{pmatrix}\n",
    "we get \n",
    "\\begin{pmatrix}\n",
    "0.10798 & 0.79788 & 0.10798\n",
    "\\end{pmatrix}\n",
    "Convuling this vector on itself to create a 3X3 Matrix, we get the following Matrix.\n",
    "\n",
    "\\begin{pmatrix}\n",
    "0.01166 & 0.08616 & 0.01166 \\\\\n",
    "0.08616 & 0.63662 & 0.08616\\\\\n",
    "0.01166 & 0.08616 & 0.01166\n",
    "\\end{pmatrix}\n",
    "\n",
    "Dividing it by its sum, we get\n",
    "<font color ='red'>\n",
    "\\begin{pmatrix}\n",
    "0.01134 &0.08382 &0.01134\\\\\n",
    "0.08382 &0.61935 &0.08382\\\\\n",
    "0.01134 &0.08382 &0.01134\n",
    "\\end{pmatrix}\n",
    "</font>\n",
    "The same results are obtained by using the Gaussian Filter function for 2D by substituting in gaussian equation over x and y values\n",
    "\n",
    "$\\frac{1}{\\sigma \\sqrt{2\\pi}}e^{{{ - \\left( {x ^2+y^2} \\right)}/{2\\sigma ^2 }}}$\n",
    "\n",
    "Same applies , $\\sigma$ = 0.5, and using the bext practice of 2 X (3 $\\sigma$ ) wide matrix, A matrix of size 3X3 will be used\n",
    "\n",
    "Substituting in the Gaussian equation by $\\sigma = 0.5, by the followig matrix :\n",
    "\n",
    "$X$\n",
    "\n",
    "\\begin{pmatrix}\n",
    "-1 & 0 & 1 \\\\\n",
    "-1 & 0 & 1 \\\\\n",
    "-1 & 0 & 1\n",
    "\\end{pmatrix}\n",
    "\n",
    "$Y$\n",
    "\n",
    "\\begin{pmatrix}\n",
    "-1 & -1 & -1 \\\\\n",
    "0 & 0 & 0 \\\\\n",
    "1 & 1 & 1\n",
    "\\end{pmatrix}\n",
    "\n",
    "$X^2 + Y^2$\n",
    "\n",
    "\\begin{pmatrix}\n",
    "2 & 1 & 2 \\\\\n",
    "1 & 0 & 1 \\\\\n",
    "2 & 1 & 2\n",
    "\\end{pmatrix}\n",
    "\n",
    "\n",
    "Using this to creat the 3X3 Matrix Filter, we get the following Matrix.\n",
    "\n",
    "\\begin{pmatrix}\n",
    "0.01166 & 0.08616 & 0.01166 \\\\\n",
    "0.08616 & 0.63662 & 0.08616\\\\\n",
    "0.01166 & 0.08616 & 0.01166\n",
    "\\end{pmatrix}\n",
    "\n",
    "Dividing it by the sum of the matrix , gives :\n",
    "<font color ='red'>\n",
    "\\begin{pmatrix}\n",
    "0.01134 &0.08382 &0.01134\\\\\n",
    "0.08382 &0.61935 &0.08382\\\\\n",
    "0.01134 &0.08382 &0.01134\n",
    "\\end{pmatrix}\n",
    "</font>\n",
    "\n",
    "Which is the same output of the matlab gaussian filter function\n"
   ]
  },
  {
   "cell_type": "code",
   "execution_count": 1,
   "metadata": {
    "colab": {
     "base_uri": "https://localhost:8080/"
    },
    "id": "wIKjinm6OEkL",
    "outputId": "172215e2-2a7e-4ca7-cc5d-7a9a8d145c90"
   },
   "outputs": [
    {
     "name": "stdout",
     "output_type": "stream",
     "text": [
      "[0.10798193 0.79788456 0.10798193]\n"
     ]
    }
   ],
   "source": [
    "from scipy.stats import norm\n",
    "from scipy.ndimage import gaussian_filter\n",
    "import numpy as np\n",
    "width = 3\n",
    "mu = 0\n",
    "sigma = 0.5\n",
    "a = norm.pdf(np.arange(-(width-1)/2,(width+1)/2), 0,0.5)\n",
    "print(a)"
   ]
  },
  {
   "cell_type": "code",
   "execution_count": 2,
   "metadata": {
    "colab": {
     "base_uri": "https://localhost:8080/"
    },
    "id": "6qBXcmOrKsx9",
    "outputId": "0821a720-436f-4962-c84e-4873009a4010"
   },
   "outputs": [
    {
     "name": "stdout",
     "output_type": "stream",
     "text": [
      "[[0.01166 0.08616 0.01166]\n",
      " [0.08616 0.63662 0.08616]\n",
      " [0.01166 0.08616 0.01166]]\n"
     ]
    }
   ],
   "source": [
    "np.set_printoptions(precision=5)\n",
    "np.set_printoptions(suppress=True)\n",
    "o= np.outer(a,a.T)\n",
    "print(o)"
   ]
  },
  {
   "cell_type": "code",
   "execution_count": 3,
   "metadata": {
    "colab": {
     "base_uri": "https://localhost:8080/"
    },
    "id": "AQeqV0rHMj9M",
    "outputId": "369d9534-f76a-4900-d03f-58fb7654f526"
   },
   "outputs": [
    {
     "name": "stdout",
     "output_type": "stream",
     "text": [
      "[[0.01134 0.08382 0.01134]\n",
      " [0.08382 0.61935 0.08382]\n",
      " [0.01134 0.08382 0.01134]] \n",
      " Norm of filter = 0.6420345036741675\n"
     ]
    }
   ],
   "source": [
    "n = o.sum() #np.linalg.norm(o)\n",
    "filter = o/n\n",
    "print(filter, \"\\n Norm of filter =\",np.linalg.norm(filter))"
   ]
  },
  {
   "cell_type": "code",
   "execution_count": 4,
   "metadata": {
    "colab": {
     "base_uri": "https://localhost:8080/"
    },
    "id": "KfvlzrNyokPr",
    "outputId": "7e8a1b26-3957-4c34-d8f1-68764becc78b"
   },
   "outputs": [
    {
     "name": "stdout",
     "output_type": "stream",
     "text": [
      "[[2. 1. 2.]\n",
      " [1. 0. 1.]\n",
      " [2. 1. 2.]] \n",
      " [[0.01832 0.13534 0.01832]\n",
      " [0.13534 1.      0.13534]\n",
      " [0.01832 0.13534 0.01832]]\n",
      "[[0.01134 0.08382 0.01134]\n",
      " [0.08382 0.61935 0.08382]\n",
      " [0.01134 0.08382 0.01134]]\n"
     ]
    }
   ],
   "source": [
    "#Check using python built in gaussain equation over x and y\n",
    "\n",
    "def gauss2D(shape=(3,3),sigma=0.5):\n",
    "    \"\"\"\n",
    "    2D gaussian mask - should give the same result as MATLAB's\n",
    "    fspecial('gaussian',[shape],[sigma])\n",
    "    \"\"\"\n",
    "    m,n = [(ss-1.)/2. for ss in shape]\n",
    "    y,x = np.ogrid[-m:m+1,-n:n+1]\n",
    "    h = np.exp( -(x*x + y*y) / (2.*sigma*sigma) )\n",
    "    print((x*x + y*y),\"\\n\",h)\n",
    "    h[ h < np.finfo(h.dtype).eps*h.max() ] = 0\n",
    "    sumh = h.sum()\n",
    "    if sumh != 0:\n",
    "        h /= sumh\n",
    "    return h\n",
    "f= gauss2D((3,3),0.5)\n",
    "print(f)"
   ]
  },
  {
   "cell_type": "code",
   "execution_count": 5,
   "metadata": {
    "colab": {
     "base_uri": "https://localhost:8080/"
    },
    "id": "exIxgp1yv03U",
    "outputId": "63860623-4b70-46a9-ccef-450b7c8af89b"
   },
   "outputs": [
    {
     "name": "stdout",
     "output_type": "stream",
     "text": [
      "[[0.01139 0.08394 0.01139]\n",
      " [0.08394 0.61869 0.08394]\n",
      " [0.01139 0.08394 0.01139]]\n"
     ]
    }
   ],
   "source": [
    "#Check using python built in gaussain filter function\n",
    "\n",
    "f2 = gaussian_filter(np.float_([[0,0,0],[0,1,0],[0,0,0]]),sigma=0.5)\n",
    "print(f2)"
   ]
  },
  {
   "cell_type": "markdown",
   "metadata": {
    "id": "zViPvG0FRyUd"
   },
   "source": [
    "## Trying with Matrix width of 5\n",
    "\n",
    "Double checking by assuming a matrix width of 5, generate a matrix with very small values at the outer values that can be negligable\n"
   ]
  },
  {
   "cell_type": "code",
   "execution_count": 6,
   "metadata": {
    "colab": {
     "base_uri": "https://localhost:8080/"
    },
    "id": "dSxa5sHWSAEr",
    "outputId": "52961394-04cc-4370-ce1a-6c50ac0c5b87"
   },
   "outputs": [
    {
     "name": "stdout",
     "output_type": "stream",
     "text": [
      "[[0.      0.00003 0.00021 0.00003 0.     ]\n",
      " [0.00003 0.01166 0.08616 0.01166 0.00003]\n",
      " [0.00021 0.08616 0.63662 0.08616 0.00021]\n",
      " [0.00003 0.01166 0.08616 0.01166 0.00003]\n",
      " [0.      0.00003 0.00021 0.00003 0.     ]]\n"
     ]
    }
   ],
   "source": [
    "from scipy.stats import norm\n",
    "width2 = 5\n",
    "mu = 0\n",
    "sigma = 0.5\n",
    "a2 = norm.pdf(np.arange(-(width2-1)/2,(width2+1)/2),  loc = mu,scale= sigma)\n",
    "o2= np.outer(a2,a2.T)\n",
    "filter2 = o2\n",
    "print(filter2)"
   ]
  },
  {
   "cell_type": "markdown",
   "metadata": {
    "id": "nN6G_F_7Skqb"
   },
   "source": [
    "<font color ='blue' size = 10> Question 2 </font>\n"
   ]
  },
  {
   "cell_type": "markdown",
   "metadata": {
    "id": "hYWfnEqHdYCF"
   },
   "source": [
    "<font color ='purple'>In the Laplacian sharpening filter, we noticed that there were a missing step between the filtered image and the sharpened image known as a normalization step, try to find out how to implement this step. </font>\n",
    "\n",
    "The Gaussian Filter convolve the image with the gaussain equation:\n",
    "\n",
    "$\\displaystyle G(x, y) = \\frac{1}{\\sqrt{2\\pi \\sigma^2}}e^{{{ - \\left( {x ^2+y^2} \\right)}/{2\\sigma ^2 }}}$\n",
    "\n",
    "The response of a derivative of Gaussian filter to a perfect step edge decreases as $\\sigma$ increases.\n",
    "To keep response the same (scale-invariant), must multiply Gaussian derivative by $\\sigma$"
   ]
  },
  {
   "cell_type": "markdown",
   "metadata": {
    "id": "Nctr0cEsjhyp"
   },
   "source": [
    "\n",
    " ![Untitled.png](data:image/png;base64,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)\n"
   ]
  },
  {
   "cell_type": "markdown",
   "metadata": {
    "id": "cxkQsVYydSDx"
   },
   "source": [
    "If we denoise image by a Gaussian filter then use Laplacian, we have\n",
    "$\\displaystyle \\triangle \\{ G(x,y) * f(x,y)\\} = \\triangle\\{G(x,y)\\}*f(x,y) = LoG * f(x,y)$\n",
    "\n",
    "So we can compute the Laplacian of Gaussian function first. For 2nd derivative of $ x$ , we have\n",
    "\n",
    "$\\displaystyle \\frac{\\partial^2}{\\partial^2 x} G(x,y) = \\frac{1}{2\\pi\\sigma^2}\\frac{x^2 - \\sigma^2}{\\sigma^4}\\exp\\{-\\frac{x^+y^2}{2\\sigma^2}\\}$\n",
    "\n",
    "Compute the 2nd derivative of $ y$ in same way, and we get LoG as\n",
    "\n",
    "$\\displaystyle LoG$\t$\\displaystyle = \\frac{\\partial^2}{\\partial x^2} G(x,y) + \\frac{\\partial^2}{\\partial y^2} G(x,y)$\t\n",
    "$\\displaystyle = -\\frac{1}{\\pi\\sigma^4}\\left ( 1 - \\frac{x^2+y^2}{2\\sigma^2}\\right )\\exp\\{-\\frac{x^2+y^2}{2\\sigma^2}\\}$\n",
    "\n",
    "\n",
    "$\\color{red}{\\text{Laplacian is the second Gaussian derivative, so it must be multiplied by }}$ <font color='blue' font size = 5 > $\\sigma^2$\n",
    "</font>\n",
    "\n",
    "$\\displaystyle Normalized LoG$ $\\displaystyle = -\\frac{1}{\\pi\\sigma^2}\\left ( 1 - \\frac{x^2+y^2}{2\\sigma^2}\\right )\\exp\\{-\\frac{x^2+y^2}{2\\sigma^2}\\}$\n",
    "\n",
    "\n",
    "\n"
   ]
  },
  {
   "cell_type": "markdown",
   "metadata": {
    "id": "RmTymm9_pTyN"
   },
   "source": [
    "<font color ='blue' size = 10> Question 3 </font>\n",
    "\n",
    "<font color ='purple'>Find out a new edge detection filter that we did not study it before, try to describe it in a professional manner.</font>\n",
    "\n",
    "## A Novel Edge Detection Algorithm Based on Texture Feature Coding\n",
    "\n",
    "Based on Abdulkadir Sengur, Yanhui Guo*, Mehmet Ustundag and Ömer Faruk Alcin (A Novel Edge Detection Algorithm Based on Texture Feature Coding),J. Intell. Syst. 2015; 24(2): 235–248 \n",
    "\n"
   ]
  },
  {
   "cell_type": "markdown",
   "metadata": {
    "id": "U0dCYZ4TjihE"
   },
   "source": [
    "## 1 What is Texture Feature Analysis\n",
    "#### Texture is a feature used to partition images into regions of interest and to classify those regions.\n",
    "#### Texture provides information in the spatial arrangement of colors or intensities in an image.\n",
    "#### Texture is characterized by the spatial distribution of intensity levels in a neighborhood.\n",
    "\n",
    "## 2 What is Texture Specturm\n",
    "\n",
    "In order to understand the proposed methodology, we need first to understand the methods for estimating the texture spectrum (TS), including the texture unit (TU) and the texture unit number (NTU).\n",
    "\n",
    "The texture unit (TU) is used for extracting the local texture information from a neighborhood of 3 × 3 pixels, which represents the smallest complete unit surrounding the central pixel in all eight directions. \n",
    "Recent studies have reported that the calculations in eight directions are probably redundant and that only four directions (0°, 45°, 90°, and 135°) can be used without loss of discriminatory power. Let us consider a neighborhood with only four directions (0°, 45°, 90°, and 135°), which can be noted as a set containing five elements: V = {V0, V1, V2, V3, V4}, where V0 represents the grey-level value of the central pixel and Vi represents the grey-level value of the neighboring pixel i, with i = 1, 2, 3, 4. The key concept of the texture spectrum method is to use the relative intensity relations between pixels, instead of their absolute intensity values (such as the co-occurrence matrix), to represent the local texture aspect, which is more faithful to the texture characteristics. We can define the corresponding texture unit (TU) as a set containing four elements: TU = {E1, E2, E3, E4}, where Ei is determined by comparing the grey-level difference between the central pixel and its four neighbors.\n",
    "\n",
    "\n",
    "## What is Texture Feature Coding Method\n",
    "\n",
    "The proposed mechanism analyzed in my report depended on using just a part of the TFCM. In other words, The study was interested in the TFNs where the input gray-level image is transformed to the TFN image by means of differencing in the image domain followed by successive stages of vector classification. After this mapping procedure, thresholding and edge-thinning mechanisms were employed for obtaining the final edge detected image. Modification done at \n",
    "\n",
    "## 3 Proposed Method\n",
    "The TFCM was designed to characterize the texture regions of a given image by transforming the image to a TFN\n",
    "image. Regarding the TFCM mapping process described, one must note that in each successive class assignment\n",
    "stage, either quantized difference vectors are mapped to gray-level class numbers, gray-level class numbers are\n",
    "mapped to initial feature numbers, or initial feature numbers are mapped to TFNs. The resulting feature numbers\n",
    "at every stage are chosen so that higher feature or class numbers correspond to higher degrees of gray-level variation.\n",
    "Thus, for the final TFNs, values of 0 represent little gray-level variation and values of 54 represent high degrees\n",
    "of gray-level variation over the immediate neighborhood of (i, j). When an intensity image has been transformed to\n",
    "a TFN image, it is possible to apply one of the texture descriptor methods such as gray-level co-occurrence matrices\n",
    "to the TFN image, and extract features such as mean convergence, code variance, code entropy, and uniformity.\n",
    "In this study, instead of using the TFCM-based texture feature extraction method, we only considered the\n",
    "TFN for edge detection. The algorithm for translating a single pixel from an image intensity value to a TFN is\n",
    "as follows:\n",
    "### Step 1:\n",
    "A 3 × 3 matrix z from image I centered at pixel $(i, j)$ such that $z_{2,2} = I_{i,j}$. Assign a numeric threshold $\\varepsilon  > 0$.\n",
    "### Step 2:\n",
    "Calculate the difference vectors along the directions.\n",
    "\n",
    "\n",
    "$–– ΔV = [z_{1,2}-z_{2,2}, z_{2,2}-z_{3,2}]′; //Vertical$\n",
    "\n",
    "$–– ΔH = [z_{2,1}-z_{2,2}, z_{2,2}-z_{2,3}]′; //Horizontal$\n",
    "\n",
    "$–– ΔD1 = [z_{1,1}-z_{2,2}, z_{2,2}-z_{3,3}]′; //Diagonal$\n",
    "\n",
    "$–– ΔD2 = [z_{1,3}-z_{2,2}, z_{2,2}-z_{3,1}]′; //Anti-diagonal$\n",
    "\n",
    "\n",
    "### Step 3:\n",
    "Apply a threshold to obtain the quantized two-element vectors. The related pseudo-code is given as\n",
    "follows:\n",
    "\n",
    "    for U∈{ΔV, ΔH, ΔD1, ΔD2}\n",
    "      for k∈[1, 2]\n",
    "        if Uk < –ε\n",
    "          Uk = –1\n",
    "        else if Uk > ε\n",
    "          Uk = 1\n",
    "        else\n",
    "          Uk = 0\n",
    "      end\n",
    "    end\n",
    "\n",
    "### Step 4:\n",
    "Determine the gray-level class number T1(U) from Uk\n",
    "### Step 5:\n",
    "Determine the initial feature number T2(primary) from T1(ΔV) and T1(ΔH) and T2(secondary) from\n",
    "T1(ΔD1) and T1(ΔD2)\n",
    "### Step 6:\n",
    "Determine TFN from T2(primary) and T2(secondary) as in the below table\n",
    "\n",
    "Table Mapping from Primary (1) and Secondary (2) Initial Feature Numbers to TFN.\n",
    "Initial Feature Number 1\n",
    "1 2 3 4 5 6 7 8 9 10\n",
    "\n",
    "Initial Feature Number 2\n",
    "\\begin{vmatrix}\n",
    "1&0&1&2&3&4&5&6&7&8&9\\\\\n",
    "2&1&10&11&12&13&14&15&16&17&18\\\\\n",
    "3&2&11&19&20&21&22&23&24&25&26\\\\\n",
    "4&3&12&20&27&28&29&30&31&32&33\\\\\n",
    "5&4&13&21&28&34&35&36&37&38&39\\\\\n",
    "6&5&14&22&29&35&40&41&42&43&44\\\\\n",
    "7&6&15&23&30&36&41&45&46&47&48\\\\\n",
    "8&7&16&24&31&37&42&46&49&50&51\\\\\n",
    "9&8&17&25&32&38&43&47&50&52&53\\\\\n",
    "10&9&18&26&33&39&44&48&51&53&54\\\\\n",
    "\\end{vmatrix}\n",
    "\n",
    "\n",
    "Finally, an edge-thinning technique is used to remove the redundant points on the edge of the thresholded TFN\n",
    "image.\n",
    "\n",
    "\n",
    "## 4 Experimental Results and Analysis\n",
    "In this section, the proposed TFCM-based edge detection algorithm is compared with a variety of existing\n",
    "edge detection methods such as Prewitt, Sobel, and Canny. Figure 4A is the original cameraman gray-scale\n",
    "image with 256 gray-scale levels. Figure 4 panels B to D are the result of the processed original cameraman\n",
    "image after applying the Prewitt, Sobel, and Canny edge detector, respectively. Figure 4E is the result of\n",
    "the processed cameraman image by our proposed edge detection algorithm described in this article. For the\n",
    "Prewitt, Sobel, and Canny algorithms, we used the default parameters that are already defined in Matlab.\n",
    "For the TFCM algorithm, we assigned 20 for the tolerance (ε) and 7 is assigned as the final thresholding. These\n",
    "values were determined according to earlier experimental studies.\n",
    "According to the experimental results shown in Figure 4B–E, Prewitt and Sobel could not detect the\n",
    "edges of the building and the hand of the cameraman that are shown by dashed red circles and ellipsoids,\n",
    "respectively. However, Canny and the TFCM-based method could detect the edges of both regions that are\n",
    "depicted with the red dashed circle and ellipsoid. However, Canny detected many false edges on the grass\n",
    "region and the trousers of the cameraman. Finally, the TFCM method yielded acceptable edges when we considered\n",
    "the entire edges of the cameraman image.\n",
    "\n"
   ]
  },
  {
   "cell_type": "markdown",
   "metadata": {},
   "source": [
    "# References\n",
    "#### D.C. He, L. Wang, Textural filters based on the texture spectrum, Pattern Recognition (1991)\n",
    "\n",
    "#### Abdulkadir Sengur, Yanhui Guo*, Mehmet Ustundag and Ömer Faruk Alcin (A Novel Edge Detection Algorithm Based on Texture Feature Coding),J. Intell. Syst. 2015; 24(2): 235–248 \n",
    "\n",
    "#### M. H. Horng, Texture feature coding method for texture classification, Opt. Eng. 42 (2003), 228–238.\n",
    "\n",
    "#### Texture Features for Anti-Tank Landmine Detection Using Ground Penetrating Radar Peter Torrione, and Leslie M. Collins, Senior Member, IEEE.\n"
   ]
  }
 ],
 "metadata": {
  "colab": {
   "collapsed_sections": [],
   "name": "CV_HW.ipynb",
   "provenance": []
  },
  "kernelspec": {
   "display_name": "Python 3",
   "language": "python",
   "name": "python3"
  },
  "language_info": {
   "codemirror_mode": {
    "name": "ipython",
    "version": 3
   },
   "file_extension": ".py",
   "mimetype": "text/x-python",
   "name": "python",
   "nbconvert_exporter": "python",
   "pygments_lexer": "ipython3",
   "version": "3.7.6"
  }
 },
 "nbformat": 4,
 "nbformat_minor": 1
}
